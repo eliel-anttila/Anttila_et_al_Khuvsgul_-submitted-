{
 "cells": [
  {
   "cell_type": "code",
   "execution_count": 4,
   "id": "bc6a781e-f512-4616-b568-44069a20dea0",
   "metadata": {},
   "outputs": [],
   "source": [
    "########### Bring in tools to use in rest of notebook\n",
    "import numpy as np\n",
    "import matplotlib.pyplot as plt\n",
    "import plotly.express as px\n",
    "import json\n",
    "import requests\n",
    "import pandas as pd\n",
    "from scipy import stats\n",
    "from sklearn.linear_model import LinearRegression\n",
    "from sklearn.neighbors import KernelDensity\n",
    "############"
   ]
  },
  {
   "cell_type": "code",
   "execution_count": null,
   "id": "45dd11e3-8b7b-4a04-96ce-66bf52db6443",
   "metadata": {},
   "outputs": [],
   "source": []
  },
  {
   "cell_type": "code",
   "execution_count": 5,
   "id": "37856802-55f7-48cc-88a9-2da1ac3f0921",
   "metadata": {},
   "outputs": [],
   "source": [
    "Mag_Sample_List_Names='KH01','KH02','KH03','Z129','EAGC1917','EAGC1925','EAGC1926B','EAGC1942','EAGC1943','EAGC1944'"
   ]
  },
  {
   "cell_type": "code",
   "execution_count": 26,
   "id": "7fe2a426-3e8b-4b84-801d-ef3f79b4ddba",
   "metadata": {},
   "outputs": [],
   "source": [
    "#create dataframe to be filled\n",
    "Magm_Comp=pd.DataFrame()\n",
    "#create dataframe to be filled in loop\n",
    "Dat=pd.DataFrame()\n",
    "# loop through each sheet\n",
    "for jj in range(0,len(Mag_Sample_List_Names)): \n",
    "    Dat=pd.read_excel('Laser_Data/Khuvsgul_LA_ICPMS_Data_All.xlsx',sheet_name=Mag_Sample_List_Names[jj]).dropna(axis=1)\n",
    "    Dat['Sample_Name']=Mag_Sample_List_Names[jj]# append column with sample name for all rows in sheet\n",
    "    Magm_Comp=pd.concat([Magm_Comp, Dat])# append new dataframe to unified dataframe for all samples\n",
    "    \n",
    "\n",
    "\n",
    "\n"
   ]
  },
  {
   "cell_type": "code",
   "execution_count": null,
   "id": "79ee85c9-8450-46c6-b74e-1143c1fd9fdf",
   "metadata": {},
   "outputs": [],
   "source": [
    "\n",
    "\n",
    "\n",
    "def Magmatic_WM_plot():\n",
    "    for ii in range(0,len(Mag_Sample_List_Names)):\n",
    "    Mag(Magm_Comp.loc[Magm_Comp['Sample_Name'] == Mag_Sample_List_Names[ii]])\n",
    "    Discard_ndiscord=Mag.loc[Mag['discordance'] > Dn10] #remove all ages that are more negatively-discordant than chosen filter.\n",
    "    Mag_ages=Discard_ndiscord.loc[Mag['discordance'] < D15]#remove all remaining ages that are more discordant than chosen filter.top=Z129['06_38_age']+Z129['06_38_2sigma'] #define top of uncertainty\n",
    "    Mag_ages=Mag_ages.sort_values(by='06_38_age', ascending=True)#rank ages\n",
    "    top=Mag_ages['06_38_age']+Mag_ages['06_38_2sigma']\n",
    "    bottombar=Mag_ages['06_38_age']-Mag_ages['06_38_2sigma'] #define bottom of uncertainty\n",
    "    height=top-bottombar #define errorbar height\n",
    "    \n",
    "   \n",
    "    \n",
    "    ranked=plt.figure(figsize=(5, 4))\n",
    "    plt.bar(range(len(bottombar)), height, width=.8, align='center', bottom=bottombar, color=Mag_colors, edgecolor='k', alpha=1,linewidth=.1)# label=''+len(Mag_ages)+'/'+len(Mag)+'')\n",
    "    \n",
    "    wm=np.average(Mag_ages['06_38_age'], weights = Mag_ages['06_38_2sigma']) #calculate weighted mean age from all ages within discordia envelope\n",
    "    \n",
    "    wm_top=wm+(wm*.02) #add 2% uncertainty to weighted mean ages\n",
    "    wm_bottom=wm-(wm*.02)\n",
    "    plt.axhspan(wm_top,wm_bottom,color='gray', alpha=.4) #plot wm uncertainty envelope\n",
    "    plt.axhline(wm,color='k') #plot wm age\n",
    "    \n",
    "    \n",
    "    \n",
    "    plt.xlabel(Mag_data_name,fontsize=12)\n",
    "    plt.ylabel('Age (Ma)', fontsize=12)\n",
    "    \n",
    "    #plt.legend()\n",
    "    \n",
    "    \n",
    "    #plt.savefig('Output/Magmatic_Ages/'+Mag_data_name+'_WM_Plot.pdf')"
   ]
  },
  {
   "cell_type": "code",
   "execution_count": 15,
   "id": "60400bfa-f887-4f24-8151-9c92c554f80b",
   "metadata": {},
   "outputs": [
    {
     "name": "stdout",
     "output_type": "stream",
     "text": [
      "       Comments  U ppm  Th ppm  207Pb/235U  2s (abs)  206Pb/238U  2s (abs).1  \\\n",
      "0       KH01_L2   40.9   34.80      1.2160  0.086490     0.12810    0.004500   \n",
      "1       KH01_L5   42.7   37.50      1.2830  0.057091     0.13130    0.006005   \n",
      "2       KH01_L4   85.8   77.90      1.1630  0.037176     0.13140    0.004870   \n",
      "3       KH01_L3   39.8   21.19      1.3270  0.081446     0.13430    0.006574   \n",
      "4       KH01_L1  105.2   48.90      1.3700  0.050988     0.14180    0.004822   \n",
      "..          ...    ...     ...         ...       ...         ...         ...   \n",
      "84  EAGC1944S_3   90.2  104.70      0.6272  0.015857     0.07960    0.001819   \n",
      "85  EAGC1944S_4  102.0  111.10      0.6540  0.018441     0.08129    0.001839   \n",
      "86  EAGC1944S_5  145.8  165.80      0.6390  0.018956     0.08030    0.002066   \n",
      "87  EAGC1944S_6  120.8   56.60      0.6370  0.018929     0.07990    0.002125   \n",
      "88  EAGC1944S_9   78.3   85.10      0.6510  0.018399     0.08180    0.001971   \n",
      "\n",
      "         rho  238U/206Pb  2s (abs).2  ...  Unnamed: 55  Unnamed: 56  \\\n",
      "0   0.099665    7.806401    0.274256  ...          NaN          NaN   \n",
      "1   0.651950    7.616146    0.348304  ...          NaN          NaN   \n",
      "2   0.828540    7.610350    0.282055  ...          NaN          NaN   \n",
      "3   0.643730    7.446016    0.364471  ...          NaN          NaN   \n",
      "4   0.607680    7.052186    0.239820  ...          NaN          NaN   \n",
      "..       ...         ...         ...  ...          ...          ...   \n",
      "84  0.795820   12.562810    0.287087  ...          NaN          NaN   \n",
      "85  0.635620   12.301640    0.278334  ...          NaN          NaN   \n",
      "86  0.679470   12.453300    0.320438  ...          NaN          NaN   \n",
      "87  0.786190   12.515640    0.332788  ...          NaN          NaN   \n",
      "88  0.517610   12.224940    0.294627  ...          NaN          NaN   \n",
      "\n",
      "    Unnamed: 57  Unnamed: 58  Sample_Name  WM  WME  MDAN  TIMS  TIMSE  \n",
      "0           NaN          NaN         KH01 NaN  NaN   NaN   NaN    NaN  \n",
      "1           NaN          NaN         KH01 NaN  NaN   NaN   NaN    NaN  \n",
      "2           NaN          NaN         KH01 NaN  NaN   NaN   NaN    NaN  \n",
      "3           NaN          NaN         KH01 NaN  NaN   NaN   NaN    NaN  \n",
      "4           NaN          NaN         KH01 NaN  NaN   NaN   NaN    NaN  \n",
      "..          ...          ...          ...  ..  ...   ...   ...    ...  \n",
      "84          NaN          NaN     EAGC1944 NaN  NaN   NaN   NaN    NaN  \n",
      "85          NaN          NaN     EAGC1944 NaN  NaN   NaN   NaN    NaN  \n",
      "86          NaN          NaN     EAGC1944 NaN  NaN   NaN   NaN    NaN  \n",
      "87          NaN          NaN     EAGC1944 NaN  NaN   NaN   NaN    NaN  \n",
      "88          NaN          NaN     EAGC1944 NaN  NaN   NaN   NaN    NaN  \n",
      "\n",
      "[640 rows x 65 columns]\n"
     ]
    }
   ],
   "source": [
    "for jj in range(0,len(Mag_Sample_List)): \n",
    "    Mag_data_name = Mag_Sample_List_Names[jj]\n",
    "    Mag_colors=Mag_Sample_Colors[jj]\n",
    "    \n",
    "    Magmatic_WM_plot()"
   ]
  },
  {
   "cell_type": "markdown",
   "id": "26dbd669-fc4b-470c-96b7-bf1b2efe3117",
   "metadata": {},
   "source": [
    "* * * \n",
    "* * *\n",
    "## LA-ICPMS weighted mean plots for magmatic samples"
   ]
  },
  {
   "cell_type": "markdown",
   "id": "26e8e7c8-a66c-47bd-8ce5-ed5b3f2bd974",
   "metadata": {},
   "source": [
    "* * *\n",
    "Define list of samples to be plotted."
   ]
  },
  {
   "cell_type": "code",
   "execution_count": 1,
   "id": "b263abf2-9c04-4d62-9cba-db8729946cdf",
   "metadata": {},
   "outputs": [],
   "source": [
    "Mag_Sample_List_Names='KH01','KH02','KH03','Z129','EAGC1917','EAGC1925','EAGC1926B','EAGC1942','EAGC1943','EAGC1944'"
   ]
  },
  {
   "cell_type": "markdown",
   "id": "9d1452d1-4e79-42cd-9a67-232e4cf736d8",
   "metadata": {},
   "source": [
    "* * *\n",
    "Create and fill dataframe with all LA-ICPMS data. "
   ]
  },
  {
   "cell_type": "code",
   "execution_count": 2,
   "id": "11926f7f-9fd7-43ca-ad54-9032179e3ad1",
   "metadata": {},
   "outputs": [
    {
     "ename": "NameError",
     "evalue": "name 'pd' is not defined",
     "output_type": "error",
     "traceback": [
      "\u001b[0;31m---------------------------------------------------------------------------\u001b[0m",
      "\u001b[0;31mNameError\u001b[0m                                 Traceback (most recent call last)",
      "Cell \u001b[0;32mIn[2], line 2\u001b[0m\n\u001b[1;32m      1\u001b[0m \u001b[38;5;66;03m#create dataframe to be filled\u001b[39;00m\n\u001b[0;32m----> 2\u001b[0m Magm_Comp\u001b[38;5;241m=\u001b[39m\u001b[43mpd\u001b[49m\u001b[38;5;241m.\u001b[39mDataFrame()\n\u001b[1;32m      3\u001b[0m \u001b[38;5;66;03m#create dataframe to be filled in loop\u001b[39;00m\n\u001b[1;32m      4\u001b[0m Dat\u001b[38;5;241m=\u001b[39mpd\u001b[38;5;241m.\u001b[39mDataFrame()\n",
      "\u001b[0;31mNameError\u001b[0m: name 'pd' is not defined"
     ]
    }
   ],
   "source": [
    "#create dataframe to be filled\n",
    "Magm_Comp=pd.DataFrame()\n",
    "#create dataframe to be filled in loop\n",
    "Dat=pd.DataFrame()\n",
    "# loop through each sheet\n",
    "for jj in range(0,len(Mag_Sample_List_Names)): \n",
    "    Dat=pd.read_excel('Laser_Data/Khuvsgul_LA_ICPMS_Data_All.xlsx',sheet_name=Mag_Sample_List_Names[jj]).dropna(axis=1)\n",
    "    Dat['Sample_Name']=Mag_Sample_List_Names[jj]# append column with sample name for all rows in sheet\n",
    "    Magm_Comp=pd.concat([Magm_Comp, Dat])# append new dataframe to unified dataframe for all samples"
   ]
  },
  {
   "cell_type": "markdown",
   "id": "c0dc74f9-8f86-42b8-afe9-ca50247237fb",
   "metadata": {},
   "source": [
    "Define function, Magmatic_WM_plot_singles(), for plotting individual WM figures, with 2% uncertainty applied to WM ages to reflect analytical uncertainty. Function requires: Mag_Sample_List_Names and Magm_Comp, as defined above."
   ]
  },
  {
   "cell_type": "code",
   "execution_count": 3,
   "id": "9f0e7f56-6ff6-4934-923c-ed14ec994fc3",
   "metadata": {},
   "outputs": [],
   "source": [
    "#not necessary, as plotting material has to be within loop to function properly\n",
    "\n",
    "def maginput():\n",
    "    Mag_cmap = plt.get_cmap('viridis') \n",
    "    Mag_Sample_Colors=Mag_cmap(np.linspace(1,0, len(Mag_Sample_List_Names))) \n",
    "\n",
    "    Mag=(Magm_Comp.loc[Magm_Comp['Sample_Name'] == Mag_Sample_List_Names[ii]]) #in the new dataframe, isolate each set of analyses associated with a given sample\n",
    "    Mag_data_name=Mag_Sample_List_Names[ii] #define list of sample names, as strings, for labels\n",
    "    Mag_colors=Mag_Sample_Colors[ii] #call color for each sample from list defined above.\n",
    "\n",
    "    Discard_n_disc=Mag.loc[Mag['discordance'] > Dn10] #remove all ages that are more negatively-discordant than chosen filter.\n",
    "    Mag_ages=Discard_n_disc.loc[Mag['discordance'] < D15]#remove all remaining ages that are more discordant than chosen filter.top=Z129['06_38_age']+Z129['06_38_2sigma'] #define top of uncertainty\n",
    "    Mag_ages=Mag_ages.sort_values(by='06_38_age', ascending=True)#rank ages\n",
    "    top=Mag_ages['06_38_age']+Mag_ages['06_38_2sigma']\n",
    "    bottombar\n",
    "    bottombar=Mag_ages['06_38_age']-Mag_ages['06_38_2sigma'] #define bottom of uncertainty\n",
    "    height=top-bottombar #define errorbar height\n",
    "    wm=np.average(Mag_ages['06_38_age'], weights = Mag_ages['06_38_2sigma']) #calculate weighted mean age from all ages within discordia envelope\n",
    "    wm_top=wm+(wm*.02) #add 2% uncertainty to weighted mean ages, reflecting laser uncertainty.\n",
    "    wm_bottom=wm-(wm*.02)"
   ]
  },
  {
   "cell_type": "code",
   "execution_count": null,
   "id": "594ca55f-09ef-4912-9726-d2ddf453aefc",
   "metadata": {},
   "outputs": [],
   "source": [
    "def Magmatic_WM_plot_singles(): #function that plots (and saves) individual figures for each WM plot. \n",
    "   \n",
    "    Mag_cmap = plt.get_cmap('viridis')\n",
    "    SamColor='mediumaquamarine','mediumaquamarine','mediumaquamarine','lightcoral','lightcoral','lightcoral','lightcoral','paleturquoise','paleturquoise','paleturquoise'\n",
    "    \n",
    "    Mag_Sample_Colors=SamColor#Mag_cmap(np.linspace(1,0, len(Mag_Sample_List_Names))) \n",
    "    \n",
    "    for ii in range(0,len(Mag_Sample_List_Names)):\n",
    "        \n",
    "        Mag=(Magm_Comp.loc[Magm_Comp['Sample_Name'] == Mag_Sample_List_Names[ii]]) #in the new dataframe, isolate each set of analyses associated with a given sample\n",
    "        Mag_data_name=Mag_Sample_List_Names[ii] #define list of sample names, as strings, for labels\n",
    "        Mag_colors=Mag_Sample_Colors[ii] #call color for each sample from list defined above.\n",
    "\n",
    "        Discard_n_disc=Mag.loc[Mag['discordance'] > Dn10] #remove all ages that are more negatively-discordant than chosen filter.\n",
    "        Mag_ages=Discard_n_disc.loc[Mag['discordance'] < D15]#remove all remaining ages that are more discordant than chosen filter.top=Z129['06_38_age']+Z129['06_38_2sigma'] #define top of uncertainty\n",
    "        Mag_ages=Mag_ages.sort_values(by='06_38_age', ascending=True)#rank ages\n",
    "        top=Mag_ages['06_38_age']+Mag_ages['06_38_2sigma']\n",
    "        global bottombar\n",
    "        bottombar=Mag_ages['06_38_age']-Mag_ages['06_38_2sigma'] #define bottom of uncertainty\n",
    "        height=top-bottombar #define errorbar height\n",
    "        wm=np.average(Mag_ages['06_38_age'], weights = Mag_ages['06_38_2sigma']) #calculate weighted mean age from all ages within discordia envelope\n",
    "        wm_top=wm+(wm*.02) #add 2% uncertainty to weighted mean ages, reflecting laser uncertainty.\n",
    "        wm_bottom=wm-(wm*.02)\n",
    "\n",
    "        ranked=plt.figure(figsize=(3, 2))\n",
    "        plt.bar(range(len(bottombar)),height, width=.8, align='center', bottom=bottombar, color=Mag_colors, edgecolor='k', alpha=1,linewidth=.1)# label=''+len(Mag_ages)+'/'+len(Mag)+'')\n",
    "\n",
    "        plt.axhspan(wm_top,wm_bottom,color='gray', alpha=.4) #plot wm uncertainty envelope\n",
    "        plt.axhline(wm,color='k') #plot wm age\n",
    "\n",
    "        blank=pltp.Rectangle((0,0), 0, 0, fill=False, edgecolor='none', visible=False, label='Age±error') #add blank rect for legend\n",
    "\n",
    "        plt.legend([blank], ['WM Age=''%.1f'%(wm)+ '±' '%.1f'%(wm*.02)+' Ma, n=''%.0f'%(len(Mag_ages))],fontsize=9, frameon=False, loc='upper right')\n",
    "        plt.xlabel(Mag_data_name,fontsize=12)\n",
    "        plt.ylabel('Age (Ma)', fontsize=12)\n",
    "        plt.tick_params(labelbottom=False, length=0)\n",
    "        \n",
    "        plt.savefig('Output/Magmatic_Ages/Individual_WM_Plots/'+Mag_Sample_List_Names[ii]+'.pdf')\n",
    "        "
   ]
  },
  {
   "cell_type": "markdown",
   "id": "fbc4a22d-d3c4-4e2a-8916-ef18108babae",
   "metadata": {},
   "source": [
    "* * *\n",
    "Define function, Mag_WM_Summary(), for plotting a summary WM figure, with 2% uncertainty applied to WM ages to reflect analytical uncertainty. *Function requires: Mag_Sample_List_Names and Magm_Comp, as defined above.*"
   ]
  },
  {
   "cell_type": "code",
   "execution_count": 5,
   "id": "206b5aa7-e8d8-4d80-aa77-7863a022818e",
   "metadata": {},
   "outputs": [],
   "source": [
    "\n",
    "def Mag_WM_Summary():  #needs: Mag_Sample_List_Names(list of str), and Magm_Comp, which is defined above\n",
    "    n_samples=len(Mag_Sample_List_Names)\n",
    "    n_cols_fig = 4\n",
    "    n_rows_fig = np.ceil(n_samples/n_cols_fig).astype(int)\n",
    "\n",
    "    ranked=plt.figure(figsize=(n_cols_fig*5,n_rows_fig*5))\n",
    "\n",
    "    Mag_cmap = plt.get_cmap('viridis') \n",
    "    Mag_Sample_Colors=Mag_cmap(np.linspace(1,0, len(Mag_Sample_List_Names)))\n",
    "    \n",
    "    for ii in range(0,len(Mag_Sample_List_Names)):\n",
    "            \n",
    "            Mag=(Magm_Comp.loc[Magm_Comp['Sample_Name'] == Mag_Sample_List_Names[ii]]) #in the new dataframe, isolate each set of analyses associated with a given sample\n",
    "            Mag_data_name=Mag_Sample_List_Names[ii] #define list of sample names, as strings, for labels\n",
    "            Mag_colors=Mag_Sample_Colors[ii] #call color for each sample from list defined above.\n",
    "\n",
    "            Discard_n_disc=Mag.loc[Mag['discordance'] > Dn10] #remove all ages that are more negatively-discordant than chosen filter.\n",
    "            Mag_ages=Discard_n_disc.loc[Mag['discordance'] < D15]#remove all remaining ages that are more discordant than chosen filter.top=Z129['06_38_age']+Z129['06_38_2sigma'] #define top of uncertainty\n",
    "            Mag_ages=Mag_ages.sort_values(by='06_38_age', ascending=True)#rank ages\n",
    "            top=Mag_ages['06_38_age']+Mag_ages['06_38_2sigma']\n",
    "            bottombar=Mag_ages['06_38_age']-Mag_ages['06_38_2sigma'] #define bottom of uncertainty\n",
    "            height=top-bottombar #define errorbar height\n",
    "            wm=np.average(Mag_ages['06_38_age'], weights = Mag_ages['06_38_2sigma']) #calculate weighted mean age from all ages within discordia envelope\n",
    "            wm_top=wm+(wm*.02) #add 2% uncertainty to weighted mean ages, reflecting laser uncertainty.\n",
    "            wm_bottom=wm-(wm*.02)\n",
    "\n",
    "            ax = plt.subplot(n_rows_fig, n_cols_fig,ii+1)#autofill subplot panels, dimension defined outside loop.\n",
    "            ax.bar(range(len(bottombar)),height, width=.8, align='center', bottom=bottombar, color=Mag_colors, edgecolor='k', alpha=1,linewidth=.1)#plot individual analyses as bars.\n",
    "            ax.axhspan(wm_top,wm_bottom,color='gray', alpha=.4) #plot wm uncertainty envelope\n",
    "            ax.axhline(wm,color='k') #plot wm age\n",
    "            blank=pltp.Rectangle((0,0), 0, 0, fill=False, edgecolor='none', visible=False, label='Age±error') #add blank rect for legend\n",
    "\n",
    "            #prettification\n",
    "            ax.legend([blank], ['WM Age=''%.1f'%(wm)+ '±' '%.1f'%(wm*.02)+' Ma, n=''%.0f'%(len(Mag_ages))], fontsize=14,frameon=False, loc='upper right')\n",
    "            ax.set_xlabel(Mag_data_name,fontsize=16)\n",
    "            ax.set_ylabel('Age (Ma)', fontsize=12)\n",
    "            ax.tick_params(labelbottom=False, length=0)"
   ]
  },
  {
   "cell_type": "code",
   "execution_count": null,
   "id": "5abf6e01-0e24-48eb-8311-0d407ea6b89d",
   "metadata": {},
   "outputs": [],
   "source": []
  }
 ],
 "metadata": {
  "kernelspec": {
   "display_name": "Python 3 (ipykernel)",
   "language": "python",
   "name": "python3"
  },
  "language_info": {
   "codemirror_mode": {
    "name": "ipython",
    "version": 3
   },
   "file_extension": ".py",
   "mimetype": "text/x-python",
   "name": "python",
   "nbconvert_exporter": "python",
   "pygments_lexer": "ipython3",
   "version": "3.10.11"
  }
 },
 "nbformat": 4,
 "nbformat_minor": 5
}
